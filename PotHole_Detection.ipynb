{
  "nbformat": 4,
  "nbformat_minor": 0,
  "metadata": {
    "colab": {
      "provenance": [],
      "include_colab_link": true
    },
    "kernelspec": {
      "name": "python3",
      "display_name": "Python 3"
    },
    "language_info": {
      "name": "python"
    },
    "accelerator": "GPU",
    "gpuClass": "standard"
  },
  "cells": [
    {
      "cell_type": "markdown",
      "metadata": {
        "id": "view-in-github",
        "colab_type": "text"
      },
      "source": [
        "<a href=\"https://colab.research.google.com/github/agntgalahad/pothole-detection/blob/main/PotHole_Detection.ipynb\" target=\"_parent\"><img src=\"https://colab.research.google.com/assets/colab-badge.svg\" alt=\"Open In Colab\"/></a>"
      ]
    },
    {
      "cell_type": "code",
      "execution_count": 17,
      "metadata": {
        "colab": {
          "base_uri": "https://localhost:8080/"
        },
        "id": "ItS4cy09PBJF",
        "outputId": "f98b8e52-da35-4a72-d5b0-74f69860e23e"
      },
      "outputs": [
        {
          "output_type": "stream",
          "name": "stdout",
          "text": [
            "Looking in indexes: https://pypi.org/simple, https://us-python.pkg.dev/colab-wheels/public/simple/\n",
            "Requirement already satisfied: kaggle in /usr/local/lib/python3.8/dist-packages (1.5.12)\n",
            "Requirement already satisfied: tqdm in /usr/local/lib/python3.8/dist-packages (from kaggle) (4.64.1)\n",
            "Requirement already satisfied: six>=1.10 in /usr/local/lib/python3.8/dist-packages (from kaggle) (1.15.0)\n",
            "Requirement already satisfied: python-slugify in /usr/local/lib/python3.8/dist-packages (from kaggle) (7.0.0)\n",
            "Requirement already satisfied: python-dateutil in /usr/local/lib/python3.8/dist-packages (from kaggle) (2.8.2)\n",
            "Requirement already satisfied: urllib3 in /usr/local/lib/python3.8/dist-packages (from kaggle) (1.24.3)\n",
            "Requirement already satisfied: requests in /usr/local/lib/python3.8/dist-packages (from kaggle) (2.25.1)\n",
            "Requirement already satisfied: certifi in /usr/local/lib/python3.8/dist-packages (from kaggle) (2022.12.7)\n",
            "Requirement already satisfied: text-unidecode>=1.3 in /usr/local/lib/python3.8/dist-packages (from python-slugify->kaggle) (1.3)\n",
            "Requirement already satisfied: idna<3,>=2.5 in /usr/local/lib/python3.8/dist-packages (from requests->kaggle) (2.10)\n",
            "Requirement already satisfied: chardet<5,>=3.0.2 in /usr/local/lib/python3.8/dist-packages (from requests->kaggle) (4.0.0)\n"
          ]
        }
      ],
      "source": [
        "import tensorflow as tf\n",
        "import keras\n",
        "from keras.models import Sequential\n",
        "from keras.layers import Dense, Activation, Dropout, Flatten, Conv2D, MaxPooling2D, BatchNormalization\n",
        "from keras.layers.normalization import batch_normalization\n",
        "from keras.datasets import mnist\n",
        "import numpy as np\n",
        "import matplotlib.pyplot as plt\n",
        "import cv2\n",
        "from google.colab import files\n",
        "!pip install kaggle"
      ]
    },
    {
      "cell_type": "code",
      "source": [
        "#Upload Kaggle api json file\n",
        "files.upload()"
      ],
      "metadata": {
        "colab": {
          "base_uri": "https://localhost:8080/",
          "height": 91
        },
        "id": "dmXrnKB4SchL",
        "outputId": "aa8bfc3b-7c6e-42cf-adbe-47ee6a52c5a7"
      },
      "execution_count": 18,
      "outputs": [
        {
          "output_type": "display_data",
          "data": {
            "text/plain": [
              "<IPython.core.display.HTML object>"
            ],
            "text/html": [
              "\n",
              "     <input type=\"file\" id=\"files-66700a25-7c8a-4c74-bab9-440111abc87f\" name=\"files[]\" multiple disabled\n",
              "        style=\"border:none\" />\n",
              "     <output id=\"result-66700a25-7c8a-4c74-bab9-440111abc87f\">\n",
              "      Upload widget is only available when the cell has been executed in the\n",
              "      current browser session. Please rerun this cell to enable.\n",
              "      </output>\n",
              "      <script>// Copyright 2017 Google LLC\n",
              "//\n",
              "// Licensed under the Apache License, Version 2.0 (the \"License\");\n",
              "// you may not use this file except in compliance with the License.\n",
              "// You may obtain a copy of the License at\n",
              "//\n",
              "//      http://www.apache.org/licenses/LICENSE-2.0\n",
              "//\n",
              "// Unless required by applicable law or agreed to in writing, software\n",
              "// distributed under the License is distributed on an \"AS IS\" BASIS,\n",
              "// WITHOUT WARRANTIES OR CONDITIONS OF ANY KIND, either express or implied.\n",
              "// See the License for the specific language governing permissions and\n",
              "// limitations under the License.\n",
              "\n",
              "/**\n",
              " * @fileoverview Helpers for google.colab Python module.\n",
              " */\n",
              "(function(scope) {\n",
              "function span(text, styleAttributes = {}) {\n",
              "  const element = document.createElement('span');\n",
              "  element.textContent = text;\n",
              "  for (const key of Object.keys(styleAttributes)) {\n",
              "    element.style[key] = styleAttributes[key];\n",
              "  }\n",
              "  return element;\n",
              "}\n",
              "\n",
              "// Max number of bytes which will be uploaded at a time.\n",
              "const MAX_PAYLOAD_SIZE = 100 * 1024;\n",
              "\n",
              "function _uploadFiles(inputId, outputId) {\n",
              "  const steps = uploadFilesStep(inputId, outputId);\n",
              "  const outputElement = document.getElementById(outputId);\n",
              "  // Cache steps on the outputElement to make it available for the next call\n",
              "  // to uploadFilesContinue from Python.\n",
              "  outputElement.steps = steps;\n",
              "\n",
              "  return _uploadFilesContinue(outputId);\n",
              "}\n",
              "\n",
              "// This is roughly an async generator (not supported in the browser yet),\n",
              "// where there are multiple asynchronous steps and the Python side is going\n",
              "// to poll for completion of each step.\n",
              "// This uses a Promise to block the python side on completion of each step,\n",
              "// then passes the result of the previous step as the input to the next step.\n",
              "function _uploadFilesContinue(outputId) {\n",
              "  const outputElement = document.getElementById(outputId);\n",
              "  const steps = outputElement.steps;\n",
              "\n",
              "  const next = steps.next(outputElement.lastPromiseValue);\n",
              "  return Promise.resolve(next.value.promise).then((value) => {\n",
              "    // Cache the last promise value to make it available to the next\n",
              "    // step of the generator.\n",
              "    outputElement.lastPromiseValue = value;\n",
              "    return next.value.response;\n",
              "  });\n",
              "}\n",
              "\n",
              "/**\n",
              " * Generator function which is called between each async step of the upload\n",
              " * process.\n",
              " * @param {string} inputId Element ID of the input file picker element.\n",
              " * @param {string} outputId Element ID of the output display.\n",
              " * @return {!Iterable<!Object>} Iterable of next steps.\n",
              " */\n",
              "function* uploadFilesStep(inputId, outputId) {\n",
              "  const inputElement = document.getElementById(inputId);\n",
              "  inputElement.disabled = false;\n",
              "\n",
              "  const outputElement = document.getElementById(outputId);\n",
              "  outputElement.innerHTML = '';\n",
              "\n",
              "  const pickedPromise = new Promise((resolve) => {\n",
              "    inputElement.addEventListener('change', (e) => {\n",
              "      resolve(e.target.files);\n",
              "    });\n",
              "  });\n",
              "\n",
              "  const cancel = document.createElement('button');\n",
              "  inputElement.parentElement.appendChild(cancel);\n",
              "  cancel.textContent = 'Cancel upload';\n",
              "  const cancelPromise = new Promise((resolve) => {\n",
              "    cancel.onclick = () => {\n",
              "      resolve(null);\n",
              "    };\n",
              "  });\n",
              "\n",
              "  // Wait for the user to pick the files.\n",
              "  const files = yield {\n",
              "    promise: Promise.race([pickedPromise, cancelPromise]),\n",
              "    response: {\n",
              "      action: 'starting',\n",
              "    }\n",
              "  };\n",
              "\n",
              "  cancel.remove();\n",
              "\n",
              "  // Disable the input element since further picks are not allowed.\n",
              "  inputElement.disabled = true;\n",
              "\n",
              "  if (!files) {\n",
              "    return {\n",
              "      response: {\n",
              "        action: 'complete',\n",
              "      }\n",
              "    };\n",
              "  }\n",
              "\n",
              "  for (const file of files) {\n",
              "    const li = document.createElement('li');\n",
              "    li.append(span(file.name, {fontWeight: 'bold'}));\n",
              "    li.append(span(\n",
              "        `(${file.type || 'n/a'}) - ${file.size} bytes, ` +\n",
              "        `last modified: ${\n",
              "            file.lastModifiedDate ? file.lastModifiedDate.toLocaleDateString() :\n",
              "                                    'n/a'} - `));\n",
              "    const percent = span('0% done');\n",
              "    li.appendChild(percent);\n",
              "\n",
              "    outputElement.appendChild(li);\n",
              "\n",
              "    const fileDataPromise = new Promise((resolve) => {\n",
              "      const reader = new FileReader();\n",
              "      reader.onload = (e) => {\n",
              "        resolve(e.target.result);\n",
              "      };\n",
              "      reader.readAsArrayBuffer(file);\n",
              "    });\n",
              "    // Wait for the data to be ready.\n",
              "    let fileData = yield {\n",
              "      promise: fileDataPromise,\n",
              "      response: {\n",
              "        action: 'continue',\n",
              "      }\n",
              "    };\n",
              "\n",
              "    // Use a chunked sending to avoid message size limits. See b/62115660.\n",
              "    let position = 0;\n",
              "    do {\n",
              "      const length = Math.min(fileData.byteLength - position, MAX_PAYLOAD_SIZE);\n",
              "      const chunk = new Uint8Array(fileData, position, length);\n",
              "      position += length;\n",
              "\n",
              "      const base64 = btoa(String.fromCharCode.apply(null, chunk));\n",
              "      yield {\n",
              "        response: {\n",
              "          action: 'append',\n",
              "          file: file.name,\n",
              "          data: base64,\n",
              "        },\n",
              "      };\n",
              "\n",
              "      let percentDone = fileData.byteLength === 0 ?\n",
              "          100 :\n",
              "          Math.round((position / fileData.byteLength) * 100);\n",
              "      percent.textContent = `${percentDone}% done`;\n",
              "\n",
              "    } while (position < fileData.byteLength);\n",
              "  }\n",
              "\n",
              "  // All done.\n",
              "  yield {\n",
              "    response: {\n",
              "      action: 'complete',\n",
              "    }\n",
              "  };\n",
              "}\n",
              "\n",
              "scope.google = scope.google || {};\n",
              "scope.google.colab = scope.google.colab || {};\n",
              "scope.google.colab._files = {\n",
              "  _uploadFiles,\n",
              "  _uploadFilesContinue,\n",
              "};\n",
              "})(self);\n",
              "</script> "
            ]
          },
          "metadata": {}
        },
        {
          "output_type": "stream",
          "name": "stdout",
          "text": [
            "Saving kaggle.json to kaggle (1).json\n"
          ]
        },
        {
          "output_type": "execute_result",
          "data": {
            "text/plain": [
              "{'kaggle.json': b'{\"username\":\"himan1234\",\"key\":\"8061c18115e8805ead9e9a4249d477a1\"}'}"
            ]
          },
          "metadata": {},
          "execution_count": 18
        }
      ]
    },
    {
      "cell_type": "code",
      "source": [
        "!mkdir -p ~/.kaggle\n",
        "!cp kaggle.json ~/.kaggle/\n",
        "!chmod 600 ~/.kaggle/kaggle.json\n",
        "!kaggle datasets download -d atulyakumar98/pothole-detection-dataset"
      ],
      "metadata": {
        "colab": {
          "base_uri": "https://localhost:8080/"
        },
        "id": "kXnFmXVXQ0OF",
        "outputId": "e7f91650-51a8-4f83-f4db-3b7e030d51cb"
      },
      "execution_count": 19,
      "outputs": [
        {
          "output_type": "stream",
          "name": "stdout",
          "text": [
            "pothole-detection-dataset.zip: Skipping, found more recently modified local copy (use --force to force download)\n"
          ]
        }
      ]
    },
    {
      "cell_type": "code",
      "source": [
        "import zipfile\n",
        "!mkdir dataset\n",
        "with zipfile.ZipFile('/content/pothole-detection-dataset.zip', 'r') as zip_ref:\n",
        "    zip_ref.extractall('/content/dataset/')"
      ],
      "metadata": {
        "id": "yVWSh7hyTfJ6",
        "colab": {
          "base_uri": "https://localhost:8080/"
        },
        "outputId": "c2cbe87f-59d4-47df-c5c5-a329c787cab7"
      },
      "execution_count": 20,
      "outputs": [
        {
          "output_type": "stream",
          "name": "stdout",
          "text": [
            "mkdir: cannot create directory ‘dataset’: File exists\n"
          ]
        }
      ]
    },
    {
      "cell_type": "code",
      "source": [
        "from pathlib import Path\n",
        "import imghdr\n",
        "import os\n",
        "\n",
        "img_link=list(Path(\"/content/dataset/normal\").glob(r'**/*.jpg'))\n",
        "\n",
        "count_num=0\n",
        "for lnk in img_link:\n",
        "    binary_img=open(lnk,'rb')\n",
        "    find_img=tf.compat.as_bytes('JFIF') in binary_img.peek(10)#The JFIF is a JPEG File Interchange Format (JFIF). It is a standard which we gauge if an image is corrupt or substandard\n",
        "    if not find_img:\n",
        "        count_num+=1\n",
        "        os.remove(str(lnk))\n",
        "print('Total %d pcs image delete from Dataset' % count_num)"
      ],
      "metadata": {
        "colab": {
          "base_uri": "https://localhost:8080/"
        },
        "id": "kkjsBVEDkLah",
        "outputId": "f0dffe65-865e-4bac-d97e-bceea4e9de8f"
      },
      "execution_count": 21,
      "outputs": [
        {
          "output_type": "stream",
          "name": "stdout",
          "text": [
            "Total 59 pcs image delete from Dataset\n"
          ]
        }
      ]
    },
    {
      "cell_type": "code",
      "source": [
        "img_link=list(Path(\"/content/dataset/potholes\").glob(r'**/*.jpg'))\n",
        "\n",
        "count_num=0\n",
        "for lnk in img_link:\n",
        "    binary_img=open(lnk,'rb')\n",
        "    find_img=tf.compat.as_bytes('JFIF') in binary_img.peek(10)#The JFIF is a JPEG File Interchange Format (JFIF). It is a standard which we gauge if an image is corrupt or substandard\n",
        "    if not find_img:\n",
        "        count_num+=1\n",
        "        os.remove(str(lnk))\n",
        "print('Total %d pcs image delete from Dataset' % count_num)"
      ],
      "metadata": {
        "colab": {
          "base_uri": "https://localhost:8080/"
        },
        "id": "ecV_T6_Skr3t",
        "outputId": "c97d70b8-0850-45e6-d87b-5dcac8421d36"
      },
      "execution_count": 22,
      "outputs": [
        {
          "output_type": "stream",
          "name": "stdout",
          "text": [
            "Total 31 pcs image delete from Dataset\n"
          ]
        }
      ]
    },
    {
      "cell_type": "code",
      "source": [
        "img_height, img_width = 227, 227\n",
        "batch_size = 32\n",
        "data_dir = '/content/dataset'\n",
        "class_names = ['normal', 'potholes']\n",
        "\n",
        "train_ds = tf.keras.preprocessing.image_dataset_from_directory(\n",
        "    data_dir,\n",
        "    validation_split = 0.2,\n",
        "    subset = 'training',\n",
        "    labels = 'inferred',\n",
        "    class_names = class_names,\n",
        "    label_mode = 'categorical',\n",
        "    batch_size = batch_size,\n",
        "    seed = 123,\n",
        "    image_size=(img_height, img_width),\n",
        ")\n",
        "print(train_ds)"
      ],
      "metadata": {
        "colab": {
          "base_uri": "https://localhost:8080/"
        },
        "id": "J2iBpYtcXcTM",
        "outputId": "bf9e40d6-de37-4ff6-dffe-250debfedb6e"
      },
      "execution_count": 23,
      "outputs": [
        {
          "output_type": "stream",
          "name": "stdout",
          "text": [
            "Found 591 files belonging to 2 classes.\n",
            "Using 473 files for training.\n",
            "<BatchDataset element_spec=(TensorSpec(shape=(None, 227, 227, 3), dtype=tf.float32, name=None), TensorSpec(shape=(None, 2), dtype=tf.float32, name=None))>\n"
          ]
        }
      ]
    },
    {
      "cell_type": "code",
      "source": [
        "valid_ds = tf.keras.preprocessing.image_dataset_from_directory(\n",
        "    data_dir,\n",
        "    validation_split = 0.2,\n",
        "    subset = 'validation',\n",
        "    labels = 'inferred',\n",
        "    class_names = class_names,\n",
        "    label_mode = 'categorical',\n",
        "    batch_size = batch_size,\n",
        "    seed = 123,\n",
        "    image_size=(img_height, img_width),\n",
        ")\n",
        "print(valid_ds)"
      ],
      "metadata": {
        "colab": {
          "base_uri": "https://localhost:8080/"
        },
        "id": "gjRE8Tjna3qu",
        "outputId": "44f60306-0391-4fd8-8028-43431abd3325"
      },
      "execution_count": 24,
      "outputs": [
        {
          "output_type": "stream",
          "name": "stdout",
          "text": [
            "Found 591 files belonging to 2 classes.\n",
            "Using 118 files for validation.\n",
            "<BatchDataset element_spec=(TensorSpec(shape=(None, 227, 227, 3), dtype=tf.float32, name=None), TensorSpec(shape=(None, 2), dtype=tf.float32, name=None))>\n"
          ]
        }
      ]
    },
    {
      "cell_type": "code",
      "source": [
        "print(train_ds.class_names)"
      ],
      "metadata": {
        "colab": {
          "base_uri": "https://localhost:8080/"
        },
        "id": "EijvFU6wbCTu",
        "outputId": "f75f091e-8279-479f-8500-27488c981c7b"
      },
      "execution_count": 25,
      "outputs": [
        {
          "output_type": "stream",
          "name": "stdout",
          "text": [
            "['normal', 'potholes']\n"
          ]
        }
      ]
    },
    {
      "cell_type": "code",
      "source": [
        "image_shape = (227, 227, 3)\n",
        "\n",
        "model = Sequential()\n",
        "\n",
        "#1st Conv Layer\n",
        "model.add(Conv2D(filters=96, input_shape = image_shape, kernel_size = (11,11), strides = (4,4), padding = 'same'))\n",
        "model.add(Activation('relu'))\n",
        "model.add(BatchNormalization())\n",
        "#Max Pooling\n",
        "model.add(MaxPooling2D(pool_size = (3,3), strides = (2,2), padding = 'same'))\n",
        "\n",
        "#2nd Conv Layer \n",
        "model.add(Conv2D(filters=256, kernel_size = (5,5), strides = (1,1), padding = 'same'))\n",
        "model.add(Activation('relu'))\n",
        "\n",
        "#MaX Pooling\n",
        "model.add(MaxPooling2D(pool_size = (3,3), strides = (2,2), padding = 'same'))\n",
        "\n",
        "#3rd Conv Layer\n",
        "model.add(Conv2D(filters=384, kernel_size = (3,3), strides = (1,1), padding = 'same'))\n",
        "model.add(Activation('relu'))\n",
        "\n",
        "#4th Conv Layer\n",
        "model.add(Conv2D(filters=384, kernel_size = (3,3), strides = (1,1), padding = 'same'))\n",
        "model.add(Activation('relu'))\n",
        "\n",
        "#5th Conv Layer\n",
        "model.add(Conv2D(filters=384, kernel_size = (3,3), strides = (1,1), padding = 'same'))\n",
        "model.add(Activation('relu'))\n",
        "\n",
        "#Max Pooling\n",
        "model.add(MaxPooling2D(pool_size = (3,3), strides = (2,2), padding = 'same'))\n",
        "\n",
        "#Flatten \n",
        "model.add(Flatten())\n",
        "\n",
        "model.add(Dense(4096, input_shape = (227*227*3,)))\n",
        "model.add(Activation('relu'))\n",
        "\n",
        "#Dropout to prevent overfitting\n",
        "model.add(Dropout(0.4))\n",
        "\n",
        "model.add(Dense(4096))\n",
        "model.add(Activation('relu'))\n",
        "model.add(Dropout(0.4))\n",
        "\n",
        "model.add(Dense(2))\n",
        "model.add(Activation('softmax'))\n",
        "\n",
        "model.summary()\n",
        "\n"
      ],
      "metadata": {
        "colab": {
          "base_uri": "https://localhost:8080/"
        },
        "id": "Ia2oP56AbLqw",
        "outputId": "1f857ca3-16e7-42ed-cd3e-81567d1d3003"
      },
      "execution_count": 26,
      "outputs": [
        {
          "output_type": "stream",
          "name": "stdout",
          "text": [
            "Model: \"sequential_1\"\n",
            "_________________________________________________________________\n",
            " Layer (type)                Output Shape              Param #   \n",
            "=================================================================\n",
            " conv2d_5 (Conv2D)           (None, 57, 57, 96)        34944     \n",
            "                                                                 \n",
            " activation_8 (Activation)   (None, 57, 57, 96)        0         \n",
            "                                                                 \n",
            " batch_normalization_1 (Batc  (None, 57, 57, 96)       384       \n",
            " hNormalization)                                                 \n",
            "                                                                 \n",
            " max_pooling2d_3 (MaxPooling  (None, 29, 29, 96)       0         \n",
            " 2D)                                                             \n",
            "                                                                 \n",
            " conv2d_6 (Conv2D)           (None, 29, 29, 256)       614656    \n",
            "                                                                 \n",
            " activation_9 (Activation)   (None, 29, 29, 256)       0         \n",
            "                                                                 \n",
            " max_pooling2d_4 (MaxPooling  (None, 15, 15, 256)      0         \n",
            " 2D)                                                             \n",
            "                                                                 \n",
            " conv2d_7 (Conv2D)           (None, 15, 15, 384)       885120    \n",
            "                                                                 \n",
            " activation_10 (Activation)  (None, 15, 15, 384)       0         \n",
            "                                                                 \n",
            " conv2d_8 (Conv2D)           (None, 15, 15, 384)       1327488   \n",
            "                                                                 \n",
            " activation_11 (Activation)  (None, 15, 15, 384)       0         \n",
            "                                                                 \n",
            " conv2d_9 (Conv2D)           (None, 15, 15, 384)       1327488   \n",
            "                                                                 \n",
            " activation_12 (Activation)  (None, 15, 15, 384)       0         \n",
            "                                                                 \n",
            " max_pooling2d_5 (MaxPooling  (None, 8, 8, 384)        0         \n",
            " 2D)                                                             \n",
            "                                                                 \n",
            " flatten_1 (Flatten)         (None, 24576)             0         \n",
            "                                                                 \n",
            " dense_3 (Dense)             (None, 4096)              100667392 \n",
            "                                                                 \n",
            " activation_13 (Activation)  (None, 4096)              0         \n",
            "                                                                 \n",
            " dropout_2 (Dropout)         (None, 4096)              0         \n",
            "                                                                 \n",
            " dense_4 (Dense)             (None, 4096)              16781312  \n",
            "                                                                 \n",
            " activation_14 (Activation)  (None, 4096)              0         \n",
            "                                                                 \n",
            " dropout_3 (Dropout)         (None, 4096)              0         \n",
            "                                                                 \n",
            " dense_5 (Dense)             (None, 2)                 8194      \n",
            "                                                                 \n",
            " activation_15 (Activation)  (None, 2)                 0         \n",
            "                                                                 \n",
            "=================================================================\n",
            "Total params: 121,646,978\n",
            "Trainable params: 121,646,786\n",
            "Non-trainable params: 192\n",
            "_________________________________________________________________\n"
          ]
        }
      ]
    },
    {
      "cell_type": "code",
      "source": [
        "model.compile(loss = keras.losses.categorical_crossentropy, optimizer = 'adam', metrics = [\"accuracy\"])"
      ],
      "metadata": {
        "id": "2MXYkbnobllt"
      },
      "execution_count": 27,
      "outputs": []
    },
    {
      "cell_type": "code",
      "source": [
        "history = model.fit(train_ds, epochs = 15, batch_size = batch_size)"
      ],
      "metadata": {
        "colab": {
          "base_uri": "https://localhost:8080/"
        },
        "id": "xjp9DSVrbyjG",
        "outputId": "db49c166-6771-40e7-f90e-ede2c5c3c980"
      },
      "execution_count": 28,
      "outputs": [
        {
          "output_type": "stream",
          "name": "stdout",
          "text": [
            "Epoch 1/15\n",
            "15/15 [==============================] - 7s 220ms/step - loss: 20.5776 - accuracy: 0.4841\n",
            "Epoch 2/15\n",
            "15/15 [==============================] - 10s 316ms/step - loss: 0.6862 - accuracy: 0.5624\n",
            "Epoch 3/15\n",
            "15/15 [==============================] - 6s 185ms/step - loss: 0.6842 - accuracy: 0.6364\n",
            "Epoch 4/15\n",
            "15/15 [==============================] - 6s 188ms/step - loss: 0.6925 - accuracy: 0.5285\n",
            "Epoch 5/15\n",
            "15/15 [==============================] - 6s 186ms/step - loss: 0.6690 - accuracy: 0.5645\n",
            "Epoch 6/15\n",
            "15/15 [==============================] - 6s 186ms/step - loss: 0.6645 - accuracy: 0.5941\n",
            "Epoch 7/15\n",
            "15/15 [==============================] - 6s 212ms/step - loss: 0.5904 - accuracy: 0.6913\n",
            "Epoch 8/15\n",
            "15/15 [==============================] - 6s 190ms/step - loss: 0.5556 - accuracy: 0.7040\n",
            "Epoch 9/15\n",
            "15/15 [==============================] - 6s 190ms/step - loss: 0.6019 - accuracy: 0.6596\n",
            "Epoch 10/15\n",
            "15/15 [==============================] - 6s 188ms/step - loss: 0.5713 - accuracy: 0.6786\n",
            "Epoch 11/15\n",
            "15/15 [==============================] - 6s 187ms/step - loss: 0.5421 - accuracy: 0.7273\n",
            "Epoch 12/15\n",
            "15/15 [==============================] - 6s 185ms/step - loss: 0.5471 - accuracy: 0.7273\n",
            "Epoch 13/15\n",
            "15/15 [==============================] - 6s 188ms/step - loss: 0.5253 - accuracy: 0.7526\n",
            "Epoch 14/15\n",
            "15/15 [==============================] - 6s 187ms/step - loss: 0.4887 - accuracy: 0.7315\n",
            "Epoch 15/15\n",
            "15/15 [==============================] - 6s 187ms/step - loss: 0.4371 - accuracy: 0.7696\n"
          ]
        }
      ]
    },
    {
      "cell_type": "code",
      "source": [
        "test_history = model.evaluate(valid_ds, batch_size = batch_size, verbose=2)"
      ],
      "metadata": {
        "colab": {
          "base_uri": "https://localhost:8080/"
        },
        "id": "OtHeI622u1l5",
        "outputId": "7e1de7f3-f99b-414c-bfe5-9702215b4438"
      },
      "execution_count": 31,
      "outputs": [
        {
          "output_type": "stream",
          "name": "stdout",
          "text": [
            "4/4 - 1s - loss: 0.5320 - accuracy: 0.7458 - 754ms/epoch - 189ms/step\n"
          ]
        }
      ]
    },
    {
      "cell_type": "code",
      "source": [
        "!mkdir saved_models\n",
        "model.save('/content/saved_models')"
      ],
      "metadata": {
        "colab": {
          "base_uri": "https://localhost:8080/"
        },
        "id": "R70msurrxFHM",
        "outputId": "d98f4189-ef65-4cb6-9ea2-0368bde75939"
      },
      "execution_count": 32,
      "outputs": [
        {
          "output_type": "stream",
          "name": "stderr",
          "text": [
            "WARNING:absl:Found untraced functions such as _jit_compiled_convolution_op, _jit_compiled_convolution_op, _jit_compiled_convolution_op, _jit_compiled_convolution_op, _jit_compiled_convolution_op while saving (showing 5 of 5). These functions will not be directly callable after loading.\n"
          ]
        }
      ]
    },
    {
      "cell_type": "code",
      "source": [
        "plt.plot(history.history['accuracy'])\n",
        "plt.axis(ymin=0.4,ymax=1)\n",
        "plt.grid()\n",
        "plt.title('Model Accuracy')\n",
        "plt.ylabel('Accuracy')\n",
        "plt.xlabel('Epochs')\n",
        "plt.legend(['train', 'validation'])\n",
        "plt.show()"
      ],
      "metadata": {
        "id": "5Lf7wZVvcEUm",
        "colab": {
          "base_uri": "https://localhost:8080/",
          "height": 295
        },
        "outputId": "722b973a-c57c-4c7f-80d4-4b447682f7d7"
      },
      "execution_count": 40,
      "outputs": [
        {
          "output_type": "display_data",
          "data": {
            "text/plain": [
              "<Figure size 432x288 with 1 Axes>"
            ],
            "image/png": "[encoded data removed]"
          },
          "metadata": {
            "needs_background": "light"
          }
        }
      ]
    },
    {
      "cell_type": "code",
      "source": [],
      "metadata": {
        "id": "KAvwC__pzZbx"
      },
      "execution_count": null,
      "outputs": []
    }
  ]
}